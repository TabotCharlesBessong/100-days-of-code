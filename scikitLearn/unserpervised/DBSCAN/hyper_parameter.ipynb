{
 "cells": [
  {
   "cell_type": "code",
   "execution_count": null,
   "metadata": {},
   "outputs": [],
   "source": [
    "import pandas as pd\n",
    "import numpy as np\n",
    "import seaborn as sns\n",
    "import matplotlib.pyplot as plt"
   ]
  },
  {
   "cell_type": "code",
   "execution_count": null,
   "metadata": {},
   "outputs": [],
   "source": [
    "two_blobs = pd.read_csv('../../../DATA/cluster_two_blobs.csv')\n",
    "two_blobs.head()"
   ]
  },
  {
   "cell_type": "code",
   "execution_count": null,
   "metadata": {},
   "outputs": [],
   "source": [
    "two_blobs_outliers = pd.read_csv('../../../DATA/cluster_two_blobs_outliers.csv')\n",
    "two_blobs_outliers.head()"
   ]
  },
  {
   "cell_type": "code",
   "execution_count": null,
   "metadata": {},
   "outputs": [],
   "source": [
    "sns.scatterplot(data=two_blobs,x='X1',y='X2')"
   ]
  },
  {
   "cell_type": "code",
   "execution_count": null,
   "metadata": {},
   "outputs": [],
   "source": [
    "sns.scatterplot(data=two_blobs_outliers,x='X1',y='X2')"
   ]
  },
  {
   "cell_type": "code",
   "execution_count": null,
   "metadata": {},
   "outputs": [],
   "source": [
    "def display_categories(model,data):\n",
    "  labels = model.fit_predict(data)\n",
    "  sns.scatterplot(data=data,x='X1',y='X2',hue=labels,palette='Set1')"
   ]
  },
  {
   "cell_type": "code",
   "execution_count": null,
   "metadata": {},
   "outputs": [],
   "source": [
    "from sklearn.cluster import DBSCAN"
   ]
  },
  {
   "cell_type": "code",
   "execution_count": null,
   "metadata": {},
   "outputs": [],
   "source": [
    "db_model = DBSCAN(eps=0.6)\n",
    "display_categories(db_model,two_blobs)"
   ]
  },
  {
   "cell_type": "code",
   "execution_count": null,
   "metadata": {},
   "outputs": [],
   "source": [
    "db_model = DBSCAN(eps=1)"
   ]
  },
  {
   "cell_type": "code",
   "execution_count": null,
   "metadata": {},
   "outputs": [],
   "source": [
    "display_categories(db_model,two_blobs_outliers)"
   ]
  },
  {
   "cell_type": "code",
   "execution_count": null,
   "metadata": {},
   "outputs": [],
   "source": [
    "len(db_model.labels_)"
   ]
  },
  {
   "cell_type": "code",
   "execution_count": null,
   "metadata": {},
   "outputs": [],
   "source": [
    "outliers_percent = []\n",
    "number_of_outliers = [] \n",
    "\n",
    "for eps in np.linspace(0.001,7,200):\n",
    "  \n",
    "  db_model = DBSCAN(eps=eps)\n",
    "  db_model.fit_predict(two_blobs_outliers)\n",
    "  \n",
    "  # total outliers found\n",
    "  number_of_outliers.append(np.sum(db_model.labels_ == -1))\n",
    "  outliers_percent.append(100 * np.sum(db_model.labels_ == -1) / len(db_model.labels_))"
   ]
  },
  {
   "cell_type": "code",
   "execution_count": null,
   "metadata": {},
   "outputs": [],
   "source": [
    "sns.lineplot(x=np.linspace(0.001,7,200),y=number_of_outliers)\n",
    "plt.ylim(0,10)\n",
    "plt.xlim(0,2)\n",
    "plt.hlines(y=3,xmin=0,xmax=2,color='red')"
   ]
  },
  {
   "cell_type": "code",
   "execution_count": null,
   "metadata": {},
   "outputs": [],
   "source": [
    "sns.lineplot(x=np.linspace(0.001,7,200),y=outliers_percent)\n",
    "plt.ylim(0,10)\n",
    "plt.xlim(0,2)\n",
    "plt.hlines(y=3,xmin=0,xmax=2,color='red')"
   ]
  },
  {
   "cell_type": "code",
   "execution_count": null,
   "metadata": {},
   "outputs": [],
   "source": [
    "outliers_percent = []\n",
    "number_of_outliers = []\n",
    "\n",
    "for n in np.arange(1,100):\n",
    "\n",
    "  db_model = DBSCAN(min_samples=n)\n",
    "  db_model.fit_predict(two_blobs_outliers)\n",
    "\n",
    "  # total outliers found\n",
    "  number_of_outliers.append(np.sum(db_model.labels_ == -1))\n",
    "  outliers_percent.append(\n",
    "      100 * np.sum(db_model.labels_ == -1) / len(db_model.labels_))\n"
   ]
  },
  {
   "cell_type": "code",
   "execution_count": null,
   "metadata": {},
   "outputs": [],
   "source": [
    "sns.lineplot(x=np.arange(1, 100), y=outliers_percent)\n",
    "# plt.ylim(0,10)\n",
    "# plt.xlim(0,2)\n",
    "# plt.hlines(y=3,xmin=0,xmax=2,color='red')"
   ]
  },
  {
   "cell_type": "code",
   "execution_count": null,
   "metadata": {},
   "outputs": [],
   "source": [
    "sns.lineplot(x=np.arange(1,100),y=number_of_outliers)\n",
    "# plt.ylim(0,10)\n",
    "# plt.xlim(0,2)\n",
    "# plt.hlines(y=3,xmin=0,xmax=2,color='red')"
   ]
  },
  {
   "cell_type": "code",
   "execution_count": null,
   "metadata": {},
   "outputs": [],
   "source": []
  }
 ],
 "metadata": {
  "kernelspec": {
   "display_name": "Python 3",
   "language": "python",
   "name": "python3"
  },
  "language_info": {
   "codemirror_mode": {
    "name": "ipython",
    "version": 3
   },
   "file_extension": ".py",
   "mimetype": "text/x-python",
   "name": "python",
   "nbconvert_exporter": "python",
   "pygments_lexer": "ipython3",
   "version": "3.10.0"
  },
  "orig_nbformat": 4
 },
 "nbformat": 4,
 "nbformat_minor": 2
}
