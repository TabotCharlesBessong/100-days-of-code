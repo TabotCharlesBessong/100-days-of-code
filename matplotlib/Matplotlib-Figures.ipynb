{
 "cells": [
  {
   "cell_type": "markdown",
   "metadata": {},
   "source": [
    "___\n",
    "\n",
    "<a href='http://www.pieriandata.com'> <img src='../Pierian_Data_Logo.png' /></a>\n",
    "___\n",
    "# Matplotlib Figure Object"
   ]
  },
  {
   "cell_type": "markdown",
   "metadata": {},
   "source": [
    "Import the `matplotlib.pyplot` module under the name `plt` (the tidy way):"
   ]
  },
  {
   "cell_type": "code",
   "execution_count": null,
   "metadata": {},
   "outputs": [],
   "source": [
    "# COMMON MISTAKE!\n",
    "# DON'T FORGET THE .PYPLOT part\n",
    "\n",
    "import matplotlib.pyplot as plt"
   ]
  },
  {
   "cell_type": "markdown",
   "metadata": {},
   "source": [
    "### The Data"
   ]
  },
  {
   "cell_type": "code",
   "execution_count": null,
   "metadata": {},
   "outputs": [],
   "source": [
    "import numpy as np"
   ]
  },
  {
   "cell_type": "code",
   "execution_count": null,
   "metadata": {},
   "outputs": [],
   "source": [
    "a = np.linspace(0,10,11)\n",
    "b = a ** 4"
   ]
  },
  {
   "cell_type": "code",
   "execution_count": null,
   "metadata": {},
   "outputs": [],
   "source": [
    "a"
   ]
  },
  {
   "cell_type": "code",
   "execution_count": null,
   "metadata": {},
   "outputs": [],
   "source": [
    "b"
   ]
  },
  {
   "cell_type": "code",
   "execution_count": null,
   "metadata": {},
   "outputs": [],
   "source": [
    "x = np.arange(0,10)\n",
    "y = 2 * x"
   ]
  },
  {
   "cell_type": "code",
   "execution_count": null,
   "metadata": {},
   "outputs": [],
   "source": [
    "x"
   ]
  },
  {
   "cell_type": "code",
   "execution_count": null,
   "metadata": {},
   "outputs": [],
   "source": [
    "y"
   ]
  },
  {
   "cell_type": "markdown",
   "metadata": {},
   "source": [
    "## Creating a Figure"
   ]
  },
  {
   "cell_type": "code",
   "execution_count": null,
   "metadata": {},
   "outputs": [],
   "source": [
    "# Creates blank canvas\n",
    "fig = plt.figure()"
   ]
  },
  {
   "cell_type": "markdown",
   "metadata": {},
   "source": [
    "**NOTE: ALL THE COMMANDS NEED TO GO IN THE SAME CELL!**\n",
    "\n",
    "To begin we create a figure instance. Then we can add axes to that figure:"
   ]
  },
  {
   "cell_type": "code",
   "execution_count": null,
   "metadata": {},
   "outputs": [],
   "source": [
    "# Create Figure (empty canvas)\n",
    "fig = plt.figure()\n",
    "\n",
    "# Add set of axes to figure\n",
    "axes = fig.add_axes([0, 0, 1, 1]) # left, bottom, width, height (range 0 to 1)\n",
    "\n",
    "# Plot on that set of axes\n",
    "axes.plot(x, y)\n",
    "\n",
    "plt.show()"
   ]
  },
  {
   "cell_type": "code",
   "execution_count": null,
   "metadata": {},
   "outputs": [],
   "source": [
    "# Create Figure (empty canvas)\n",
    "fig = plt.figure()\n",
    "\n",
    "# Add set of axes to figure\n",
    "axes = fig.add_axes([0, 0, 1, 1]) # left, bottom, width, height (range 0 to 1)\n",
    "\n",
    "# Plot on that set of axes\n",
    "axes.plot(a, b)\n",
    "\n",
    "plt.show()"
   ]
  },
  {
   "cell_type": "markdown",
   "metadata": {},
   "source": [
    "### Adding another set of axes to the Figure\n",
    "\n",
    "So far we've only seen one set of axes on this figure object, but we can keep adding new axes on to it at any location and size we want. We can then plot on that new set of axes."
   ]
  },
  {
   "cell_type": "code",
   "execution_count": null,
   "metadata": {},
   "outputs": [],
   "source": [
    "type(fig)"
   ]
  },
  {
   "cell_type": "markdown",
   "metadata": {},
   "source": [
    "Code is a little more complicated, but the advantage is that we now have full control of where the plot axes are placed, and we can easily add more than one axis to the figure. Note how we're plotting a,b twice here"
   ]
  },
  {
   "cell_type": "code",
   "execution_count": null,
   "metadata": {},
   "outputs": [],
   "source": [
    "# Creates blank canvas\n",
    "fig = plt.figure()\n",
    "\n",
    "axes1 = fig.add_axes([0, 0, 1, 1]) # Large figure\n",
    "axes2 = fig.add_axes([0.2, 0.2, 0.5, 0.5]) # Smaller figure\n",
    "\n",
    "# Larger Figure Axes 1\n",
    "axes1.plot(a, b)\n",
    "\n",
    "# Use set_ to add to the axes figure\n",
    "axes1.set_xlabel('X Label')\n",
    "axes1.set_ylabel('Y Label')\n",
    "axes1.set_title('Big Figure')\n",
    "\n",
    "# Insert Figure Axes 2\n",
    "axes2.plot(a,b)\n",
    "axes2.set_title('Small Figure');"
   ]
  },
  {
   "cell_type": "markdown",
   "metadata": {},
   "source": [
    "Let's move the small figure and edit its parameters."
   ]
  },
  {
   "cell_type": "code",
   "execution_count": null,
   "metadata": {},
   "outputs": [],
   "source": [
    "# Creates blank canvas\n",
    "fig = plt.figure()\n",
    "\n",
    "axes1 = fig.add_axes([0, 0, 1, 1]) # Large figure\n",
    "axes2 = fig.add_axes([0.2, 0.5, 0.25, 0.25]) # Smaller figure\n",
    "\n",
    "# Larger Figure Axes 1\n",
    "axes1.plot(a, b)\n",
    "\n",
    "# Use set_ to add to the axes figure\n",
    "axes1.set_xlabel('X Label')\n",
    "axes1.set_ylabel('Y Label')\n",
    "axes1.set_title('Big Figure')\n",
    "\n",
    "# Insert Figure Axes 2\n",
    "axes2.plot(a,b)\n",
    "axes2.set_xlim(8,10)\n",
    "axes2.set_ylim(4000,10000)\n",
    "axes2.set_xlabel('X')\n",
    "axes2.set_ylabel('Y')\n",
    "axes2.set_title('Zoomed In');"
   ]
  },
  {
   "cell_type": "markdown",
   "metadata": {},
   "source": [
    "You can add as many axes on to the same figure as you want, even outside of the main figure if the length and width correspond to this."
   ]
  },
  {
   "cell_type": "code",
   "execution_count": null,
   "metadata": {},
   "outputs": [],
   "source": [
    "# Creates blank canvas\n",
    "fig = plt.figure()\n",
    "\n",
    "axes1 = fig.add_axes([0, 0, 1, 1]) # Full figure\n",
    "axes2 = fig.add_axes([0.2, 0.5, 0.25, 0.25]) # Smaller figure\n",
    "axes3 = fig.add_axes([1, 1, 0.25, 0.25]) # Starts at top right corner!\n",
    "\n",
    "# Larger Figure Axes 1\n",
    "axes1.plot(a, b)\n",
    "\n",
    "# Use set_ to add to the axes figure\n",
    "axes1.set_xlabel('X Label')\n",
    "axes1.set_ylabel('Y Label')\n",
    "axes1.set_title('Big Figure')\n",
    "\n",
    "# Insert Figure Axes 2\n",
    "axes2.plot(a,b)\n",
    "axes2.set_xlim(8,10)\n",
    "axes2.set_ylim(4000,10000)\n",
    "axes2.set_xlabel('X')\n",
    "axes2.set_ylabel('Y')\n",
    "axes2.set_title('Zoomed In');\n",
    "\n",
    "# Insert Figure Axes 3\n",
    "axes3.plot(a,b)\n"
   ]
  },
  {
   "cell_type": "markdown",
   "metadata": {},
   "source": [
    "### Figure Parameters"
   ]
  },
  {
   "cell_type": "code",
   "execution_count": null,
   "metadata": {},
   "outputs": [],
   "source": [
    "# Creates blank canvas\n",
    "fig = plt.figure(figsize=(12,8),dpi=100)\n",
    "\n",
    "axes1 = fig.add_axes([0, 0, 1, 1])\n",
    "\n",
    "axes1.plot(a,b)"
   ]
  },
  {
   "cell_type": "markdown",
   "metadata": {},
   "source": [
    "## Exporting a Figure"
   ]
  },
  {
   "cell_type": "code",
   "execution_count": null,
   "metadata": {},
   "outputs": [],
   "source": [
    "fig = plt.figure()\n",
    "\n",
    "axes1 = fig.add_axes([0, 0, 1, 1])\n",
    "\n",
    "axes1.plot(a,b)\n",
    "axes1.set_xlabel('X')\n",
    "\n",
    "# bbox_inches ='tight' automatically makes sure the bounding box is correct\n",
    "fig.savefig('./images/figure.png',bbox_inches='tight')"
   ]
  },
  {
   "cell_type": "markdown",
   "metadata": {},
   "source": [
    "---"
   ]
  },
  {
   "cell_type": "code",
   "execution_count": null,
   "metadata": {},
   "outputs": [],
   "source": [
    "# Creates blank canvas\n",
    "fig = plt.figure(figsize=(12,8))\n",
    "\n",
    "axes1 = fig.add_axes([0, 0, 1, 1]) # Full figure\n",
    "axes2 = fig.add_axes([1, 1, 0.25, 0.25]) # Starts at top right corner!\n",
    "\n",
    "# Larger Figure Axes 1\n",
    "axes1.plot(x,y)\n",
    "\n",
    "# Insert Figure Axes 2\n",
    "axes2.plot(x,y)\n",
    "\n",
    "fig.savefig('./images/test.png',bbox_inches='tight')"
   ]
  },
  {
   "cell_type": "markdown",
   "metadata": {},
   "source": [
    "----\n",
    "----"
   ]
  }
 ],
 "metadata": {
  "kernelspec": {
   "display_name": "Python 3.10.0 64-bit",
   "language": "python",
   "name": "python3"
  },
  "language_info": {
   "codemirror_mode": {
    "name": "ipython",
    "version": 3
   },
   "file_extension": ".py",
   "mimetype": "text/x-python",
   "name": "python",
   "nbconvert_exporter": "python",
   "pygments_lexer": "ipython3",
   "version": "3.10.0"
  },
  "vscode": {
   "interpreter": {
    "hash": "3e5eff28e1fe8eaff1ed87bdef7087dd0b80ab54a3ac8a2e96109ce025688be7"
   }
  }
 },
 "nbformat": 4,
 "nbformat_minor": 1
}
