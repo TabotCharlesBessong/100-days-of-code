{
 "cells": [
  {
   "cell_type": "code",
   "execution_count": null,
   "metadata": {},
   "outputs": [],
   "source": [
    "import pandas as pd\n",
    "import matplotlib.pyplot as plt\n",
    "import numpy as np"
   ]
  },
  {
   "cell_type": "code",
   "execution_count": null,
   "metadata": {},
   "outputs": [],
   "source": [
    "# plt subplot\n",
    "a = np.linspace(0,10,11)\n",
    "b= a**4\n",
    "x = np.arange(0,11)\n",
    "y = 2 * x"
   ]
  },
  {
   "cell_type": "code",
   "execution_count": null,
   "metadata": {},
   "outputs": [],
   "source": [
    "# fig,axes = plt.subplots(nrows=1,ncols=2)\n",
    "# axes[0].plot(x,y)\n",
    "# axes[1].plot(a,b)\n",
    "\n",
    "# setting up the number of rows and columns of the plot\n",
    "fig,axes = plt.subplots(nrows=2,ncols=2)\n",
    "axes[0][1].plot(x,y)\n",
    "axes[1][0].plot(a,b)\n",
    "axes[0][0].plot(y,b)\n",
    "axes[1][1].plot(y,a)\n",
    "# plt.tight_layout()\n",
    "fig.subplots_adjust(wspace=0.2,hspace=0.25)\n",
    "fig.savefig('./images/subplot.png')"
   ]
  },
  {
   "cell_type": "code",
   "execution_count": null,
   "metadata": {},
   "outputs": [],
   "source": []
  }
 ],
 "metadata": {
  "kernelspec": {
   "display_name": "Python 3.10.0 64-bit",
   "language": "python",
   "name": "python3"
  },
  "language_info": {
   "codemirror_mode": {
    "name": "ipython",
    "version": 3
   },
   "file_extension": ".py",
   "mimetype": "text/x-python",
   "name": "python",
   "nbconvert_exporter": "python",
   "pygments_lexer": "ipython3",
   "version": "3.10.0"
  },
  "orig_nbformat": 4,
  "vscode": {
   "interpreter": {
    "hash": "3e5eff28e1fe8eaff1ed87bdef7087dd0b80ab54a3ac8a2e96109ce025688be7"
   }
  }
 },
 "nbformat": 4,
 "nbformat_minor": 2
}
