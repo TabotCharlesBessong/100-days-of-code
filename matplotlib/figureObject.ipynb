{
 "cells": [
  {
   "cell_type": "code",
   "execution_count": null,
   "metadata": {},
   "outputs": [],
   "source": [
    "import pandas as pd\n",
    "import numpy as np \n",
    "import matplotlib.pyplot as plt"
   ]
  },
  {
   "cell_type": "code",
   "execution_count": null,
   "metadata": {},
   "outputs": [],
   "source": [
    "a = np.linspace(0,10,11)\n",
    "b = a**3\n",
    "# b\n",
    "x = np.arange(0,10)\n",
    "y = 2 * x\n",
    "plt.plot(x,y)\n",
    "plt.show()"
   ]
  },
  {
   "cell_type": "code",
   "execution_count": null,
   "metadata": {},
   "outputs": [],
   "source": [
    "fig = plt.figure()\n",
    "axes = fig.add_axes([0,0,1,1])\n",
    "axes.plot(a,b)\n",
    "axes.set_xlim(0,8)\n",
    "axes.set_ylim(0,100)\n",
    "axes.set_xlabel('a val')\n",
    "axes.set_ylabel('power of 4')\n",
    "axes.set_title('power of 3')\n",
    "\n",
    "# small axes \n",
    "\n",
    "axes1 = fig.add_axes([0.5,0.3,0.3,0.3])\n",
    "axes1.plot(a,b)\n",
    "axes1.set_xlim(0,5)\n",
    "axes1.set_ylim(0,55)\n",
    "axes1.set_xlabel('a val')\n",
    "axes1.set_ylabel('power of 4')\n",
    "axes1.set_title('power of 3')\n",
    "plt.show()"
   ]
  },
  {
   "cell_type": "code",
   "execution_count": null,
   "metadata": {},
   "outputs": [],
   "source": [
    "fig1 = plt.figure()\n",
    "# axes1 = fig1."
   ]
  }
 ],
 "metadata": {
  "kernelspec": {
   "display_name": "Python 3.10.0 64-bit",
   "language": "python",
   "name": "python3"
  },
  "language_info": {
   "codemirror_mode": {
    "name": "ipython",
    "version": 3
   },
   "file_extension": ".py",
   "mimetype": "text/x-python",
   "name": "python",
   "nbconvert_exporter": "python",
   "pygments_lexer": "ipython3",
   "version": "3.10.0"
  },
  "orig_nbformat": 4,
  "vscode": {
   "interpreter": {
    "hash": "3e5eff28e1fe8eaff1ed87bdef7087dd0b80ab54a3ac8a2e96109ce025688be7"
   }
  }
 },
 "nbformat": 4,
 "nbformat_minor": 2
}
