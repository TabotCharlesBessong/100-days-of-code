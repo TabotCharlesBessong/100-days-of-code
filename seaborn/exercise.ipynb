{
 "cells": [
  {
   "cell_type": "code",
   "execution_count": null,
   "metadata": {},
   "outputs": [],
   "source": [
    "import pandas as pd\n",
    "import numpy as np\n",
    "import seaborn as sns \n",
    "import matplotlib.pyplot as plt"
   ]
  },
  {
   "cell_type": "code",
   "execution_count": null,
   "metadata": {},
   "outputs": [],
   "source": [
    "df1 = pd.read_csv('./data/application_record.csv')\n",
    "df1.head()"
   ]
  },
  {
   "cell_type": "code",
   "execution_count": null,
   "metadata": {},
   "outputs": [],
   "source": [
    "employed = df1[df1['DAYS_EMPLOYED'] < 0 ]\n",
    "employed['DAYS_EMPLOYED'] = employed['DAYS_EMPLOYED'] * -1\n",
    "employed['DAYS_BIRTH'] = employed['DAYS_BIRTH'] * -1 \n",
    "employed[['DAYS_BIRTH','DAYS_EMPLOYED']]"
   ]
  },
  {
   "cell_type": "code",
   "execution_count": null,
   "metadata": {},
   "outputs": [],
   "source": [
    "plt.figure(figsize=(12,6),dpi=200)\n",
    "sns.scatterplot(x='DAYS_BIRTH',y='DAYS_EMPLOYED',data=employed,alpha=0.01)\n",
    "plt.savefig('./images/scatter1.png')"
   ]
  },
  {
   "cell_type": "code",
   "execution_count": null,
   "metadata": {},
   "outputs": [],
   "source": [
    "df1['YEARS'] = -1 * df1['DAYS_BIRTH'] / 365\n",
    "sns.histplot(data=df1,x='YEARS',bins=45,color='red')"
   ]
  },
  {
   "cell_type": "code",
   "execution_count": null,
   "metadata": {},
   "outputs": [],
   "source": [
    "plt.figure(figsize=(12,8),dpi=200)\n",
    "bottomHalf = df1.nsmallest(n=219278,columns='AMT_INCOME_TOTAL')\n",
    "sns.boxplot(data=bottomHalf,y='AMT_INCOME_TOTAL',x='NAME_FAMILY_STATUS',hue='FLAG_OWN_REALTY')\n",
    "plt.savefig('./images/box1.png')\n",
    "plt.legend(loc=(1.05,0.5),title='FLAG_OWN_REALTY')"
   ]
  },
  {
   "cell_type": "code",
   "execution_count": null,
   "metadata": {},
   "outputs": [],
   "source": [
    "df1.corr()\n",
    "df1 = df1.drop('FLAG_MOBIL',axis=1).corr()\n",
    "sns.heatmap(df1,cmap='viridis')"
   ]
  },
  {
   "cell_type": "code",
   "execution_count": null,
   "metadata": {},
   "outputs": [],
   "source": []
  }
 ],
 "metadata": {
  "kernelspec": {
   "display_name": "Python 3.10.0 64-bit",
   "language": "python",
   "name": "python3"
  },
  "language_info": {
   "codemirror_mode": {
    "name": "ipython",
    "version": 3
   },
   "file_extension": ".py",
   "mimetype": "text/x-python",
   "name": "python",
   "nbconvert_exporter": "python",
   "pygments_lexer": "ipython3",
   "version": "3.10.0"
  },
  "orig_nbformat": 4,
  "vscode": {
   "interpreter": {
    "hash": "3e5eff28e1fe8eaff1ed87bdef7087dd0b80ab54a3ac8a2e96109ce025688be7"
   }
  }
 },
 "nbformat": 4,
 "nbformat_minor": 2
}
