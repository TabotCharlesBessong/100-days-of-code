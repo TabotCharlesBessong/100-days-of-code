{
 "cells": [
  {
   "cell_type": "code",
   "execution_count": 1,
   "metadata": {},
   "outputs": [],
   "source": [
    "import pandas as pd"
   ]
  },
  {
   "cell_type": "code",
   "execution_count": 10,
   "metadata": {},
   "outputs": [
    {
     "name": "stdout",
     "output_type": "stream",
     "text": [
      "   MinTemp  MaxTemp  Rainfall  Evaporation  Sunshine WindGustDir  \\\n",
      "0      8.0     24.3       0.0          3.4       6.3          NW   \n",
      "1     14.0     26.9       3.6          4.4       9.7         ENE   \n",
      "2     13.7     23.4       3.6          5.8       3.3          NW   \n",
      "3     13.3     15.5      39.8          7.2       9.1          NW   \n",
      "4      7.6     16.1       2.8          5.6      10.6         SSE   \n",
      "\n",
      "   WindGustSpeed WindDir9am WindDir3pm  WindSpeed9am  ...  Humidity3pm  \\\n",
      "0           30.0         SW         NW           6.0  ...           29   \n",
      "1           39.0          E          W           4.0  ...           36   \n",
      "2           85.0          N        NNE           6.0  ...           69   \n",
      "3           54.0        WNW          W          30.0  ...           56   \n",
      "4           50.0        SSE        ESE          20.0  ...           49   \n",
      "\n",
      "   Pressure9am  Pressure3pm  Cloud9am  Cloud3pm  Temp9am  Temp3pm  RainToday  \\\n",
      "0       1019.7       1015.0         7         7     14.4     23.6         No   \n",
      "1       1012.4       1008.4         5         3     17.5     25.7        Yes   \n",
      "2       1009.5       1007.2         8         7     15.4     20.2        Yes   \n",
      "3       1005.5       1007.0         2         7     13.5     14.1        Yes   \n",
      "4       1018.3       1018.5         7         7     11.1     15.4        Yes   \n",
      "\n",
      "   RISK_MM RainTomorrow  \n",
      "0      3.6          Yes  \n",
      "1      3.6          Yes  \n",
      "2     39.8          Yes  \n",
      "3      2.8          Yes  \n",
      "4      0.0           No  \n",
      "\n",
      "[5 rows x 22 columns]\n"
     ]
    }
   ],
   "source": [
    "df1 = pd.read_csv(\"weather.csv\")\n",
    "print(df1.head(5))"
   ]
  },
  {
   "cell_type": "code",
   "execution_count": null,
   "metadata": {},
   "outputs": [],
   "source": [
    "df2 = pd.read_csv(\"weatherData.csv\")\n",
    "df2 = df2.to_dict()\n",
    "print(df2)"
   ]
  },
  {
   "cell_type": "code",
   "execution_count": null,
   "metadata": {},
   "outputs": [],
   "source": [
    "avgTemp = df1['MaxTemp'].mean()\n",
    "print(avgTemp)"
   ]
  },
  {
   "cell_type": "markdown",
   "metadata": {},
   "source": [
    "Getting data in rows"
   ]
  },
  {
   "cell_type": "code",
   "execution_count": null,
   "metadata": {},
   "outputs": [],
   "source": [
    "rain = df1[\"RainTomorrow\"]\n",
    "print(rain)"
   ]
  },
  {
   "cell_type": "markdown",
   "metadata": {},
   "source": [
    "Creating a data frame"
   ]
  },
  {
   "cell_type": "code",
   "execution_count": null,
   "metadata": {},
   "outputs": [],
   "source": [
    "dataDict = {\n",
    "  'student':['Charles','Blackish','Randy','Vara','David'],\n",
    "  'scores':[98,67,89,43,72]\n",
    "}\n",
    "print(dataDict)"
   ]
  },
  {
   "cell_type": "code",
   "execution_count": null,
   "metadata": {},
   "outputs": [],
   "source": [
    "data = pd.DataFrame(dataDict)\n",
    "print(data)"
   ]
  },
  {
   "cell_type": "code",
   "execution_count": 15,
   "metadata": {},
   "outputs": [],
   "source": [
    "dataCsv = data.to_csv(\"scores.csv\")"
   ]
  },
  {
   "cell_type": "code",
   "execution_count": 21,
   "metadata": {},
   "outputs": [],
   "source": [
    "df4 = df1\n",
    "eastL = len(df4[\"WindDir9am\"] == \"E\")\n",
    "northL = len(df4[\"WindDir9am\"] == \"N\")\n",
    "southL = len(df4[\"WindDir9am\"] == \"S\")\n",
    "westL = len(df4[\"WindDir9am\"] == \"W\")\n",
    "northWestL = len(df4[\"WindDir9am\"] == \"NW\")\n",
    "northEastL = len(df4[\"WindDir9am\"] == \"NE\")\n",
    "southEstL = len(df4[\"WindDir9am\"] == \"SE\")\n",
    "southWestL = len(df4[\"WindDir9am\"] == \"SW\")\n",
    "# print(eastL)"
   ]
  },
  {
   "cell_type": "code",
   "execution_count": null,
   "metadata": {},
   "outputs": [],
   "source": [
    "from pandas import DataFrame\n",
    "\n",
    "\n",
    "directionData = {\n",
    "  \"direction\":[\"North\",\"South\",\"West\",\"East\",\"NorthWest\",\"NorthEast\",\"SouthWest\",\"SouthEast\"],\n",
    "  \"count\":[northL,southL,westL,eastL,northWestL,northEastL,southWestL,southEstL]\n",
    "}\n",
    "\n",
    "df5 = pd.DataFrame(directionData)\n",
    "print(df5)"
   ]
  },
  {
   "cell_type": "code",
   "execution_count": null,
   "metadata": {},
   "outputs": [],
   "source": [
    "df5.to_csv(\"direction.csv\")"
   ]
  }
 ],
 "metadata": {
  "kernelspec": {
   "display_name": "Python 3.10.0 64-bit",
   "language": "python",
   "name": "python3"
  },
  "language_info": {
   "codemirror_mode": {
    "name": "ipython",
    "version": 3
   },
   "file_extension": ".py",
   "mimetype": "text/x-python",
   "name": "python",
   "nbconvert_exporter": "python",
   "pygments_lexer": "ipython3",
   "version": "3.10.0"
  },
  "orig_nbformat": 4,
  "vscode": {
   "interpreter": {
    "hash": "3e5eff28e1fe8eaff1ed87bdef7087dd0b80ab54a3ac8a2e96109ce025688be7"
   }
  }
 },
 "nbformat": 4,
 "nbformat_minor": 2
}
