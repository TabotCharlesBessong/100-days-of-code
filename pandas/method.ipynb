{
 "cells": [
  {
   "cell_type": "code",
   "execution_count": 1,
   "metadata": {},
   "outputs": [],
   "source": [
    "import pandas as pd\n",
    "import numpy as np"
   ]
  },
  {
   "cell_type": "code",
   "execution_count": null,
   "metadata": {},
   "outputs": [],
   "source": [
    "df1 = pd.read_csv('./data/tips.csv')\n",
    "df1.head()"
   ]
  },
  {
   "cell_type": "markdown",
   "metadata": {},
   "source": [
    "Apply method"
   ]
  },
  {
   "cell_type": "code",
   "execution_count": 3,
   "metadata": {},
   "outputs": [
    {
     "data": {
      "text/plain": [
       "'6789'"
      ]
     },
     "execution_count": 3,
     "metadata": {},
     "output_type": "execute_result"
    }
   ],
   "source": [
    "def lastFour(num):\n",
    "  return str(num)[-4:]\n",
    "\n",
    "lastFour(123456789)"
   ]
  },
  {
   "cell_type": "code",
   "execution_count": null,
   "metadata": {},
   "outputs": [],
   "source": [
    "df1['last_four'] = df1['CC Number'].apply(lastFour)\n",
    "df1.head()\n",
    "df1['total_bill'].mean()"
   ]
  },
  {
   "cell_type": "code",
   "execution_count": null,
   "metadata": {},
   "outputs": [],
   "source": [
    "def yelp(price):\n",
    "  if price < 10:\n",
    "    return '$'\n",
    "  elif price >= 10 and price < 30:\n",
    "    return '$$'\n",
    "  else:\n",
    "    return '$$$'\n",
    "  \n",
    "df1['dollar_sign'] = df1['total_bill'].apply(yelp)\n",
    "df1.tail(10)"
   ]
  },
  {
   "cell_type": "markdown",
   "metadata": {},
   "source": [
    "Apply with multiple columns "
   ]
  },
  {
   "cell_type": "code",
   "execution_count": null,
   "metadata": {},
   "outputs": [],
   "source": [
    "# lambda expression \n",
    "def simple(num):\n",
    "  return num * 4\n",
    "simple(6)\n",
    "\n",
    "lambda num : num * 4\n",
    "df1['total_bill'].apply(lambda num: num * 4)\n"
   ]
  },
  {
   "cell_type": "code",
   "execution_count": null,
   "metadata": {},
   "outputs": [],
   "source": [
    "def quality(total_bill,tip):\n",
    "  if tip/total_bill > 0.15:\n",
    "    return 'Generous'\n",
    "  else:\n",
    "    return 'Other'\n",
    "\n",
    "# applying the lambda function \n",
    "# df1[['total_bill','tip']].apply(lambda df1:quality(df1['total_bill'],df1['tip']),axis=1).head(15)\n",
    "# vectorizing \n",
    "df1['Quality'] = np.vectorize(quality)(df1['total_bill'],df1['tip'])\n",
    "df1.head()"
   ]
  },
  {
   "cell_type": "markdown",
   "metadata": {},
   "source": [
    "Statistics "
   ]
  },
  {
   "cell_type": "code",
   "execution_count": null,
   "metadata": {},
   "outputs": [],
   "source": [
    "# df1.describe()\n",
    "df1.sort_values(['tip','size'],ascending=False)\n",
    "# index location of min and max value\n",
    "df1['total_bill'].max()\n",
    "df1['total_bill'].min()\n",
    "df1['total_bill'].idxmax()\n",
    "df1['total_bill'].idxmin()\n",
    "df1.iloc[df1['total_bill'].idxmax()]\n",
    "\n",
    "# correlation \n",
    "df1.corr()\n",
    "\n",
    "# count\n",
    "df1['sex'].value_counts()\n",
    "# gives you all unique columns or values of that column\n",
    "df1['day'].unique()\n",
    "# return the number of unique columns \n",
    "df1['day'].nunique()"
   ]
  },
  {
   "cell_type": "markdown",
   "metadata": {},
   "source": [
    "switching and replacing values"
   ]
  },
  {
   "cell_type": "code",
   "execution_count": null,
   "metadata": {},
   "outputs": [],
   "source": [
    "# df1.head()\n",
    "df1['sex'].replace('Female','F')\n",
    "df1['sex'].replace('Male','M')\n",
    "# replacing multiple values at once \n",
    "df1['sex'].replace(['Female','Male'],['F','M'],inplace=True)\n",
    "df1.head()"
   ]
  },
  {
   "cell_type": "code",
   "execution_count": null,
   "metadata": {},
   "outputs": [],
   "source": [
    "# replacing values using mapping method of dict\n",
    "myMap = {'Sat':'sa','Sun':'su','Fri':'fr'}\n",
    "df1['day'].map(myMap).tail(20)"
   ]
  },
  {
   "cell_type": "code",
   "execution_count": null,
   "metadata": {},
   "outputs": [],
   "source": [
    "# duplicated rows\n",
    "df1.duplicated()\n",
    "simpleDf = pd.DataFrame([1,2,2],['a','b','c'])\n",
    "simpleDf.duplicated()\n",
    "simpleDf.drop_duplicates()\n",
    "# remove the duplicate "
   ]
  },
  {
   "cell_type": "code",
   "execution_count": null,
   "metadata": {},
   "outputs": [],
   "source": [
    "# between \n",
    "btw = df1['total_bill'].between(10,20,inclusive=True)\n",
    "df1[btw]\n"
   ]
  },
  {
   "cell_type": "code",
   "execution_count": null,
   "metadata": {},
   "outputs": [],
   "source": [
    "# n larges and n smallest\n",
    "l = df1.nlargest(10,'tip')\n",
    "l\n",
    "s = df1.nsmallest(10,'tip')\n",
    "s\n",
    "# the above code is equivalent to the one below\n",
    "df1.sort_values('tip').iloc[0:10]\n",
    "# the one below does the reverse \n",
    "df1.sort_values('total_bill',ascending=True).iloc[0:10]\n",
    "\n",
    "# sampling \n",
    "# df1.sample(5)\n",
    "df1.sample(frac=0.1)"
   ]
  },
  {
   "cell_type": "code",
   "execution_count": null,
   "metadata": {},
   "outputs": [],
   "source": []
  }
 ],
 "metadata": {
  "kernelspec": {
   "display_name": "Python 3.10.0 64-bit",
   "language": "python",
   "name": "python3"
  },
  "language_info": {
   "codemirror_mode": {
    "name": "ipython",
    "version": 3
   },
   "file_extension": ".py",
   "mimetype": "text/x-python",
   "name": "python",
   "nbconvert_exporter": "python",
   "pygments_lexer": "ipython3",
   "version": "3.10.0"
  },
  "orig_nbformat": 4,
  "vscode": {
   "interpreter": {
    "hash": "3e5eff28e1fe8eaff1ed87bdef7087dd0b80ab54a3ac8a2e96109ce025688be7"
   }
  }
 },
 "nbformat": 4,
 "nbformat_minor": 2
}
