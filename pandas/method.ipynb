{
 "cells": [
  {
   "cell_type": "code",
   "execution_count": 1,
   "metadata": {},
   "outputs": [],
   "source": [
    "import pandas as pd\n",
    "import numpy as np"
   ]
  },
  {
   "cell_type": "code",
   "execution_count": null,
   "metadata": {},
   "outputs": [],
   "source": [
    "df1 = pd.read_csv('./data/tips.csv')\n",
    "df1.head()"
   ]
  },
  {
   "cell_type": "markdown",
   "metadata": {},
   "source": [
    "Apply method"
   ]
  },
  {
   "cell_type": "code",
   "execution_count": 3,
   "metadata": {},
   "outputs": [
    {
     "data": {
      "text/plain": [
       "'6789'"
      ]
     },
     "execution_count": 3,
     "metadata": {},
     "output_type": "execute_result"
    }
   ],
   "source": [
    "def lastFour(num):\n",
    "  return str(num)[-4:]\n",
    "\n",
    "lastFour(123456789)"
   ]
  },
  {
   "cell_type": "code",
   "execution_count": null,
   "metadata": {},
   "outputs": [],
   "source": [
    "df1['last_four'] = df1['CC Number'].apply(lastFour)\n",
    "df1.head()\n",
    "df1['total_bill'].mean()"
   ]
  },
  {
   "cell_type": "code",
   "execution_count": null,
   "metadata": {},
   "outputs": [],
   "source": [
    "def yelp(price):\n",
    "  if price < 10:\n",
    "    return '$'\n",
    "  elif price >= 10 and price < 30:\n",
    "    return '$$'\n",
    "  else:\n",
    "    return '$$$'\n",
    "  \n",
    "df1['dollar_sign'] = df1['total_bill'].apply(yelp)\n",
    "df1.tail(10)"
   ]
  },
  {
   "cell_type": "markdown",
   "metadata": {},
   "source": [
    "Apply with multiple columns "
   ]
  },
  {
   "cell_type": "code",
   "execution_count": null,
   "metadata": {},
   "outputs": [],
   "source": [
    "# lambda expression \n",
    "def simple(num):\n",
    "  return num * 4\n",
    "simple(6)\n",
    "\n",
    "lambda num : num * 4\n",
    "df1['total_bill'].apply(lambda num: num * 4)\n"
   ]
  },
  {
   "cell_type": "code",
   "execution_count": null,
   "metadata": {},
   "outputs": [],
   "source": [
    "def quality(total_bill,tip):\n",
    "  if tip/total_bill > 0.15:\n",
    "    return 'Generous'\n",
    "  else:\n",
    "    return 'Other'\n",
    "\n",
    "# applying the lambda function \n",
    "# df1[['total_bill','tip']].apply(lambda df1:quality(df1['total_bill'],df1['tip']),axis=1).head(15)\n",
    "# vectorizing \n",
    "df1['Quality'] = np.vectorize(quality)(df1['total_bill'],df1['tip'])\n",
    "df1.head()"
   ]
  },
  {
   "cell_type": "code",
   "execution_count": null,
   "metadata": {},
   "outputs": [],
   "source": []
  }
 ],
 "metadata": {
  "kernelspec": {
   "display_name": "Python 3.10.0 64-bit",
   "language": "python",
   "name": "python3"
  },
  "language_info": {
   "codemirror_mode": {
    "name": "ipython",
    "version": 3
   },
   "file_extension": ".py",
   "mimetype": "text/x-python",
   "name": "python",
   "nbconvert_exporter": "python",
   "pygments_lexer": "ipython3",
   "version": "3.10.0"
  },
  "orig_nbformat": 4,
  "vscode": {
   "interpreter": {
    "hash": "3e5eff28e1fe8eaff1ed87bdef7087dd0b80ab54a3ac8a2e96109ce025688be7"
   }
  }
 },
 "nbformat": 4,
 "nbformat_minor": 2
}
