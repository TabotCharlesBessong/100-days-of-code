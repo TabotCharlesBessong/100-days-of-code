{
 "cells": [
  {
   "cell_type": "code",
   "execution_count": 35,
   "metadata": {},
   "outputs": [],
   "source": [
    "import pandas as pd\n",
    "import numpy as np"
   ]
  },
  {
   "cell_type": "code",
   "execution_count": null,
   "metadata": {},
   "outputs": [],
   "source": [
    "df1 = pd.read_csv('./data/movie_scores.csv')\n",
    "df2 = df1.dropna()\n",
    "df2.describe()"
   ]
  },
  {
   "cell_type": "code",
   "execution_count": null,
   "metadata": {},
   "outputs": [],
   "source": [
    "df1.describe()"
   ]
  },
  {
   "cell_type": "code",
   "execution_count": null,
   "metadata": {},
   "outputs": [],
   "source": [
    "# dropping a row vs dropping a column \n",
    "# df1.isnull()\n",
    "one = df1['pre_movie_score'].notnull()\n",
    "df1[(df1['pre_movie_score'].isnull()) & (df1['first_name'].notnull())]\n",
    "# df1[two]"
   ]
  },
  {
   "cell_type": "code",
   "execution_count": 39,
   "metadata": {},
   "outputs": [],
   "source": [
    "# keep the data \n",
    "# drop values\n",
    "df3 = df1.dropna(thresh=2)\n",
    "df3\n",
    "# drops everything \n",
    "# df4 = df1.dropna(axis=1)\n",
    "# df4\n",
    "# subset \n",
    "df5 = df1.dropna(subset=['last_name'])\n",
    "df5\n",
    "# fill the data\n",
    "df6 = df1.fillna('Me')\n",
    "# df6\n"
   ]
  },
  {
   "cell_type": "code",
   "execution_count": null,
   "metadata": {},
   "outputs": [],
   "source": [
    "# filling missing values\n",
    "df1['pre_movie_score'] = df1.fillna['pre_movie_score'].fillna(0)\n",
    "# df1"
   ]
  },
  {
   "cell_type": "code",
   "execution_count": null,
   "metadata": {},
   "outputs": [],
   "source": []
  }
 ],
 "metadata": {
  "kernelspec": {
   "display_name": "Python 3.10.0 64-bit",
   "language": "python",
   "name": "python3"
  },
  "language_info": {
   "codemirror_mode": {
    "name": "ipython",
    "version": 3
   },
   "file_extension": ".py",
   "mimetype": "text/x-python",
   "name": "python",
   "nbconvert_exporter": "python",
   "pygments_lexer": "ipython3",
   "version": "3.10.0"
  },
  "orig_nbformat": 4,
  "vscode": {
   "interpreter": {
    "hash": "3e5eff28e1fe8eaff1ed87bdef7087dd0b80ab54a3ac8a2e96109ce025688be7"
   }
  }
 },
 "nbformat": 4,
 "nbformat_minor": 2
}
