{
 "cells": [
  {
   "cell_type": "code",
   "execution_count": 88,
   "metadata": {},
   "outputs": [],
   "source": [
    "import numpy as np\n",
    "import pandas as pd"
   ]
  },
  {
   "cell_type": "code",
   "execution_count": 89,
   "metadata": {},
   "outputs": [],
   "source": [
    "# df1 = pd.DataFrame\n",
    "np.random.seed(101)\n",
    "myData = np.random.randint(0,101,(4,3))\n",
    "myData\n",
    "myIndex = ['CA','NY','AZ','NV']\n",
    "myColumns = ['Jan','Feb','Mar']"
   ]
  },
  {
   "cell_type": "code",
   "execution_count": null,
   "metadata": {},
   "outputs": [],
   "source": [
    "df1 = pd.DataFrame(data=myData,index=myIndex,columns=myColumns)\n",
    "df1.info()"
   ]
  },
  {
   "cell_type": "code",
   "execution_count": null,
   "metadata": {},
   "outputs": [],
   "source": [
    "df2 = pd.read_csv('./data/tips.csv')\n",
    "df2.head()\n",
    "df2.shape\n",
    "# df2.info()\n",
    "# null = df2.isnull()\n",
    "# null\n",
    "df2.describe()\n",
    "df2.describe().transpose()\n",
    "# df2.info()"
   ]
  },
  {
   "cell_type": "markdown",
   "metadata": {},
   "source": [
    "COLUMNS"
   ]
  },
  {
   "cell_type": "code",
   "execution_count": null,
   "metadata": {},
   "outputs": [],
   "source": [
    "df2['total_bill']\n",
    "cols = ['total_bill','tip']\n",
    "df2[cols]"
   ]
  },
  {
   "cell_type": "code",
   "execution_count": null,
   "metadata": {},
   "outputs": [],
   "source": [
    "# creating a new column \n",
    "df2['tip-percentage'] = 100 * df2['tip'] / df2['total_bill']\n",
    "# a column that already exist will be overwritten \n",
    "df2['price_per_person'] = np.round(df2['total_bill'] / df2['size'])\n",
    "df2.head(4)"
   ]
  },
  {
   "cell_type": "code",
   "execution_count": null,
   "metadata": {},
   "outputs": [],
   "source": [
    "# dropping rows and columns \n",
    "df3 = df2.drop(['tip-percentage'],axis=1)\n",
    "df3.set_index(\"Payment ID\")\n",
    "# df3.head()\n",
    "# df3.shape\n",
    "# df3.iloc[0]"
   ]
  },
  {
   "cell_type": "code",
   "execution_count": null,
   "metadata": {},
   "outputs": [],
   "source": [
    "# selecting multiple rows \n",
    "df3.iloc[0:4]\n",
    "# removing rows \n",
    "df3.drop('Sun4608',axis=0)"
   ]
  },
  {
   "cell_type": "code",
   "execution_count": null,
   "metadata": {},
   "outputs": [],
   "source": []
  }
 ],
 "metadata": {
  "kernelspec": {
   "display_name": "Python 3.10.0 64-bit",
   "language": "python",
   "name": "python3"
  },
  "language_info": {
   "codemirror_mode": {
    "name": "ipython",
    "version": 3
   },
   "file_extension": ".py",
   "mimetype": "text/x-python",
   "name": "python",
   "nbconvert_exporter": "python",
   "pygments_lexer": "ipython3",
   "version": "3.10.0"
  },
  "orig_nbformat": 4,
  "vscode": {
   "interpreter": {
    "hash": "3e5eff28e1fe8eaff1ed87bdef7087dd0b80ab54a3ac8a2e96109ce025688be7"
   }
  }
 },
 "nbformat": 4,
 "nbformat_minor": 2
}
