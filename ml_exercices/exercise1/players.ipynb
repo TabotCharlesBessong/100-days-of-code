{
 "cells": [
  {
   "cell_type": "code",
   "execution_count": null,
   "metadata": {},
   "outputs": [],
   "source": [
    "import pandas as pd\n",
    "import numpy as np\n",
    "import matplotlib.pyplot as plt\n",
    "import seaborn as sns"
   ]
  },
  {
   "cell_type": "code",
   "execution_count": null,
   "metadata": {},
   "outputs": [],
   "source": [
    "player = pd.read_csv('../../DATA/players_20.csv')\n",
    "player.head()"
   ]
  },
  {
   "cell_type": "code",
   "execution_count": null,
   "metadata": {},
   "outputs": [],
   "source": [
    "player.info()\n",
    "player.describe().transpose()"
   ]
  },
  {
   "cell_type": "code",
   "execution_count": null,
   "metadata": {},
   "outputs": [],
   "source": [
    "age_avg = player['age'].mean()\n",
    "age_avg "
   ]
  },
  {
   "cell_type": "code",
   "execution_count": null,
   "metadata": {},
   "outputs": [],
   "source": [
    "player['height_cm'].mean()"
   ]
  },
  {
   "cell_type": "code",
   "execution_count": null,
   "metadata": {},
   "outputs": [],
   "source": [
    "player['weight_kg'].mean()"
   ]
  },
  {
   "cell_type": "code",
   "execution_count": null,
   "metadata": {},
   "outputs": [],
   "source": [
    "pos = player['player_positions'].value_counts().index[0]\n",
    "pos"
   ]
  },
  {
   "cell_type": "code",
   "execution_count": null,
   "metadata": {},
   "outputs": [],
   "source": [
    "player['nationality'].value_counts().index[0]"
   ]
  },
  {
   "cell_type": "code",
   "execution_count": null,
   "metadata": {},
   "outputs": [],
   "source": [
    "sns.displot(data=player,x='age')"
   ]
  },
  {
   "cell_type": "code",
   "execution_count": null,
   "metadata": {},
   "outputs": [],
   "source": [
    "sns.displot(data=player,x='height_cm')"
   ]
  },
  {
   "cell_type": "code",
   "execution_count": null,
   "metadata": {},
   "outputs": [],
   "source": [
    "# 'weight_kg','lwb','ldm','cdm'"
   ]
  },
  {
   "cell_type": "code",
   "execution_count": null,
   "metadata": {},
   "outputs": [],
   "source": [
    "corr_height = player['age'].corr(player['height_cm'])\n",
    "print(f\"The correlation between players and some of their stats is {corr_height:.2f}\\n\")\n",
    "corr_weight = player['age'].corr(player['weight_kg'])\n",
    "print(f\"The correlation between players and some of their stats is {corr_weight:.2f}\\n\")\n",
    "# corr_lwb = player['age'].corr(player['lwb'])\n",
    "# print(f\"The correlation between players and some of their stats is {corr_lwb:.2f}\\n\")\n",
    "# corr_rwb = player['age'].corr(player['rwb'])\n",
    "# print(f\"The correlation between players and some of their stats is {corr_rwb:.2f}\\n\")\n",
    "# corr_ldm = player['age'].corr(player['ldm'])\n",
    "# print(f\"The correlation between players and some of their stats is {corr_ldm:.2f}\\n\")\n",
    "# corr_age = player['age'].corr(player['height_cm'])\n",
    "# print(f\"The correlation between players and some of their stats is {corr_age:.2f}\\n\")"
   ]
  },
  {
   "cell_type": "code",
   "execution_count": null,
   "metadata": {},
   "outputs": [],
   "source": []
  }
 ],
 "metadata": {
  "kernelspec": {
   "display_name": "Python 3",
   "language": "python",
   "name": "python3"
  },
  "language_info": {
   "codemirror_mode": {
    "name": "ipython",
    "version": 3
   },
   "file_extension": ".py",
   "mimetype": "text/x-python",
   "name": "python",
   "nbconvert_exporter": "python",
   "pygments_lexer": "ipython3",
   "version": "3.10.0"
  },
  "orig_nbformat": 4
 },
 "nbformat": 4,
 "nbformat_minor": 2
}
